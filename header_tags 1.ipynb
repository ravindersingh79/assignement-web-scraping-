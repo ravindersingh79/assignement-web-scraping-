{
 "cells": [
  {
   "cell_type": "code",
   "execution_count": 16,
   "id": "65e42867",
   "metadata": {},
   "outputs": [],
   "source": [
    "import requests\n",
    "from bs4 import BeautifulSoup"
   ]
  },
  {
   "cell_type": "code",
   "execution_count": null,
   "id": "3bda1d1c",
   "metadata": {},
   "outputs": [],
   "source": []
  },
  {
   "cell_type": "code",
   "execution_count": 17,
   "id": "63c21979",
   "metadata": {},
   "outputs": [],
   "source": [
    "page =requests.get('https://en.wikipedia.org/wiki/Main_Page')"
   ]
  },
  {
   "cell_type": "code",
   "execution_count": 23,
   "id": "2df5d21b",
   "metadata": {},
   "outputs": [],
   "source": [
    "data =BeautifulSoup(page.content)"
   ]
  },
  {
   "cell_type": "code",
   "execution_count": 27,
   "id": "50b5796a",
   "metadata": {},
   "outputs": [
    {
     "data": {
      "text/plain": [
       "'Welcome to Wikipedia'"
      ]
     },
     "execution_count": 27,
     "metadata": {},
     "output_type": "execute_result"
    }
   ],
   "source": [
    "# just for check \n",
    "header_title =data.find(\"span\", class_=\"mw-headline\")\n",
    "header_title.text"
   ]
  },
  {
   "cell_type": "code",
   "execution_count": 34,
   "id": "c8b72e23",
   "metadata": {},
   "outputs": [
    {
     "data": {
      "text/plain": [
       "['Welcome to Wikipedia',\n",
       " \"From today's featured article\",\n",
       " 'Did you know\\xa0...',\n",
       " 'In the news',\n",
       " 'On this day',\n",
       " \"Today's featured picture\",\n",
       " 'Other areas of Wikipedia',\n",
       " \"Wikipedia's sister projects\",\n",
       " 'Wikipedia languages']"
      ]
     },
     "execution_count": 34,
     "metadata": {},
     "output_type": "execute_result"
    }
   ],
   "source": [
    "header =[]\n",
    "\n",
    "for i in data.find_all(\"span\", class_=\"mw-headline\"):\n",
    "    header.append(i.text)\n",
    "    \n",
    "header\n"
   ]
  },
  {
   "cell_type": "code",
   "execution_count": null,
   "id": "1c481273",
   "metadata": {},
   "outputs": [],
   "source": []
  },
  {
   "cell_type": "code",
   "execution_count": null,
   "id": "9d2abdc2",
   "metadata": {},
   "outputs": [],
   "source": []
  },
  {
   "cell_type": "code",
   "execution_count": null,
   "id": "da4d25f7",
   "metadata": {},
   "outputs": [],
   "source": []
  },
  {
   "cell_type": "code",
   "execution_count": null,
   "id": "9ebe13ad",
   "metadata": {},
   "outputs": [],
   "source": []
  },
  {
   "cell_type": "code",
   "execution_count": null,
   "id": "9ffc6392",
   "metadata": {},
   "outputs": [],
   "source": []
  },
  {
   "cell_type": "code",
   "execution_count": null,
   "id": "1432fade",
   "metadata": {},
   "outputs": [],
   "source": [
    "movies=[]\n",
    "for i in data.find_all(\"td\", class_=\"titleColumn\"):\n",
    "    movies.append(i.text)\n",
    "movies"
   ]
  }
 ],
 "metadata": {
  "kernelspec": {
   "display_name": "Python 3 (ipykernel)",
   "language": "python",
   "name": "python3"
  },
  "language_info": {
   "codemirror_mode": {
    "name": "ipython",
    "version": 3
   },
   "file_extension": ".py",
   "mimetype": "text/x-python",
   "name": "python",
   "nbconvert_exporter": "python",
   "pygments_lexer": "ipython3",
   "version": "3.9.13"
  }
 },
 "nbformat": 4,
 "nbformat_minor": 5
}
